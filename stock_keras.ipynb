{
  "nbformat": 4,
  "nbformat_minor": 0,
  "metadata": {
    "colab": {
      "name": "Untitled8.ipynb",
      "provenance": [],
      "authorship_tag": "ABX9TyN74bgimK2KCpUPaCJUUCJa",
      "include_colab_link": true
    },
    "kernelspec": {
      "name": "python3",
      "display_name": "Python 3"
    }
  },
  "cells": [
    {
      "cell_type": "markdown",
      "metadata": {
        "id": "view-in-github",
        "colab_type": "text"
      },
      "source": [
        "<a href=\"https://colab.research.google.com/github/Baco23/github-course/blob/master/stock_keras.ipynb\" target=\"_parent\"><img src=\"https://colab.research.google.com/assets/colab-badge.svg\" alt=\"Open In Colab\"/></a>"
      ]
    },
    {
      "cell_type": "code",
      "metadata": {
        "id": "r1MkU4-ur2bV",
        "colab_type": "code",
        "colab": {}
      },
      "source": [
        "# Description: program uses an artificial recurrent neural network called Long Short Term Memory(LSTM) \n",
        "#              to predict the closing stock price of a corporation(BBAS3) using the past 60 day stock price. "
      ],
      "execution_count": 0,
      "outputs": []
    },
    {
      "cell_type": "code",
      "metadata": {
        "id": "cGfXQ3qPuIuJ",
        "colab_type": "code",
        "colab": {
          "base_uri": "https://localhost:8080/",
          "height": 88
        },
        "outputId": "ddbfa197-a72c-4bfa-a9a9-3c8c252dda22"
      },
      "source": [
        "#Import libraries\n",
        "import math\n",
        "import pandas_datareader as web\n",
        "import numpy as np\n",
        "import pandas as pd\n",
        "from sklearn.preprocessing import MinMaxScaler\n",
        "from keras.models import Sequential\n",
        "from keras.layers import Dense, LSTM\n",
        "import matplotlib.pyplot as plt\n",
        "plt.style.use('fivethirtyeight')\n"
      ],
      "execution_count": 1,
      "outputs": [
        {
          "output_type": "stream",
          "text": [
            "/usr/local/lib/python3.6/dist-packages/pandas_datareader/compat/__init__.py:7: FutureWarning: pandas.util.testing is deprecated. Use the functions in the public API at pandas.testing instead.\n",
            "  from pandas.util.testing import assert_frame_equal\n",
            "Using TensorFlow backend.\n"
          ],
          "name": "stderr"
        }
      ]
    },
    {
      "cell_type": "code",
      "metadata": {
        "id": "kK0OIL_bvK0E",
        "colab_type": "code",
        "colab": {
          "base_uri": "https://localhost:8080/",
          "height": 450
        },
        "outputId": "43b71473-976d-44d6-d100-003910100a6e"
      },
      "source": [
        "df = web.DataReader('BBAS3.SA', data_source='yahoo', start='2012-01-01', end='2019-12-17')\n",
        "#Show the data\n",
        "df"
      ],
      "execution_count": 2,
      "outputs": [
        {
          "output_type": "execute_result",
          "data": {
            "text/html": [
              "<div>\n",
              "<style scoped>\n",
              "    .dataframe tbody tr th:only-of-type {\n",
              "        vertical-align: middle;\n",
              "    }\n",
              "\n",
              "    .dataframe tbody tr th {\n",
              "        vertical-align: top;\n",
              "    }\n",
              "\n",
              "    .dataframe thead th {\n",
              "        text-align: right;\n",
              "    }\n",
              "</style>\n",
              "<table border=\"1\" class=\"dataframe\">\n",
              "  <thead>\n",
              "    <tr style=\"text-align: right;\">\n",
              "      <th></th>\n",
              "      <th>High</th>\n",
              "      <th>Low</th>\n",
              "      <th>Open</th>\n",
              "      <th>Close</th>\n",
              "      <th>Volume</th>\n",
              "      <th>Adj Close</th>\n",
              "    </tr>\n",
              "    <tr>\n",
              "      <th>Date</th>\n",
              "      <th></th>\n",
              "      <th></th>\n",
              "      <th></th>\n",
              "      <th></th>\n",
              "      <th></th>\n",
              "      <th></th>\n",
              "    </tr>\n",
              "  </thead>\n",
              "  <tbody>\n",
              "    <tr>\n",
              "      <th>2012-01-02</th>\n",
              "      <td>24.290001</td>\n",
              "      <td>23.650000</td>\n",
              "      <td>23.900000</td>\n",
              "      <td>24.290001</td>\n",
              "      <td>3540500.0</td>\n",
              "      <td>14.849312</td>\n",
              "    </tr>\n",
              "    <tr>\n",
              "      <th>2012-01-03</th>\n",
              "      <td>24.450001</td>\n",
              "      <td>24.049999</td>\n",
              "      <td>24.250000</td>\n",
              "      <td>24.180000</td>\n",
              "      <td>6289900.0</td>\n",
              "      <td>14.782056</td>\n",
              "    </tr>\n",
              "    <tr>\n",
              "      <th>2012-01-04</th>\n",
              "      <td>24.200001</td>\n",
              "      <td>23.809999</td>\n",
              "      <td>23.950001</td>\n",
              "      <td>24.059999</td>\n",
              "      <td>5238000.0</td>\n",
              "      <td>14.708705</td>\n",
              "    </tr>\n",
              "    <tr>\n",
              "      <th>2012-01-05</th>\n",
              "      <td>24.070000</td>\n",
              "      <td>23.540001</td>\n",
              "      <td>23.889999</td>\n",
              "      <td>23.809999</td>\n",
              "      <td>5287300.0</td>\n",
              "      <td>14.555871</td>\n",
              "    </tr>\n",
              "    <tr>\n",
              "      <th>2012-01-06</th>\n",
              "      <td>24.070000</td>\n",
              "      <td>23.129999</td>\n",
              "      <td>23.900000</td>\n",
              "      <td>23.209999</td>\n",
              "      <td>7910000.0</td>\n",
              "      <td>14.189066</td>\n",
              "    </tr>\n",
              "    <tr>\n",
              "      <th>...</th>\n",
              "      <td>...</td>\n",
              "      <td>...</td>\n",
              "      <td>...</td>\n",
              "      <td>...</td>\n",
              "      <td>...</td>\n",
              "      <td>...</td>\n",
              "    </tr>\n",
              "    <tr>\n",
              "      <th>2019-12-11</th>\n",
              "      <td>48.369999</td>\n",
              "      <td>47.560001</td>\n",
              "      <td>48.049999</td>\n",
              "      <td>47.849998</td>\n",
              "      <td>9979700.0</td>\n",
              "      <td>47.011875</td>\n",
              "    </tr>\n",
              "    <tr>\n",
              "      <th>2019-12-12</th>\n",
              "      <td>48.910000</td>\n",
              "      <td>47.860001</td>\n",
              "      <td>48.000000</td>\n",
              "      <td>48.910000</td>\n",
              "      <td>8498200.0</td>\n",
              "      <td>48.230885</td>\n",
              "    </tr>\n",
              "    <tr>\n",
              "      <th>2019-12-13</th>\n",
              "      <td>49.500000</td>\n",
              "      <td>48.360001</td>\n",
              "      <td>48.860001</td>\n",
              "      <td>48.529999</td>\n",
              "      <td>18029900.0</td>\n",
              "      <td>47.856159</td>\n",
              "    </tr>\n",
              "    <tr>\n",
              "      <th>2019-12-16</th>\n",
              "      <td>49.250000</td>\n",
              "      <td>47.869999</td>\n",
              "      <td>48.759998</td>\n",
              "      <td>47.869999</td>\n",
              "      <td>12007400.0</td>\n",
              "      <td>47.205322</td>\n",
              "    </tr>\n",
              "    <tr>\n",
              "      <th>2019-12-17</th>\n",
              "      <td>48.950001</td>\n",
              "      <td>47.919998</td>\n",
              "      <td>48.139999</td>\n",
              "      <td>48.950001</td>\n",
              "      <td>10542000.0</td>\n",
              "      <td>48.270329</td>\n",
              "    </tr>\n",
              "  </tbody>\n",
              "</table>\n",
              "<p>1974 rows × 6 columns</p>\n",
              "</div>"
            ],
            "text/plain": [
              "                 High        Low       Open      Close      Volume  Adj Close\n",
              "Date                                                                         \n",
              "2012-01-02  24.290001  23.650000  23.900000  24.290001   3540500.0  14.849312\n",
              "2012-01-03  24.450001  24.049999  24.250000  24.180000   6289900.0  14.782056\n",
              "2012-01-04  24.200001  23.809999  23.950001  24.059999   5238000.0  14.708705\n",
              "2012-01-05  24.070000  23.540001  23.889999  23.809999   5287300.0  14.555871\n",
              "2012-01-06  24.070000  23.129999  23.900000  23.209999   7910000.0  14.189066\n",
              "...               ...        ...        ...        ...         ...        ...\n",
              "2019-12-11  48.369999  47.560001  48.049999  47.849998   9979700.0  47.011875\n",
              "2019-12-12  48.910000  47.860001  48.000000  48.910000   8498200.0  48.230885\n",
              "2019-12-13  49.500000  48.360001  48.860001  48.529999  18029900.0  47.856159\n",
              "2019-12-16  49.250000  47.869999  48.759998  47.869999  12007400.0  47.205322\n",
              "2019-12-17  48.950001  47.919998  48.139999  48.950001  10542000.0  48.270329\n",
              "\n",
              "[1974 rows x 6 columns]"
            ]
          },
          "metadata": {
            "tags": []
          },
          "execution_count": 2
        }
      ]
    },
    {
      "cell_type": "code",
      "metadata": {
        "id": "oqIqrPO0wc9R",
        "colab_type": "code",
        "colab": {
          "base_uri": "https://localhost:8080/",
          "height": 34
        },
        "outputId": "69e4ed04-a0ff-427b-9141-18326b91b810"
      },
      "source": [
        "#Get the number of rows and columns in the data set\n",
        "df.shape"
      ],
      "execution_count": 3,
      "outputs": [
        {
          "output_type": "execute_result",
          "data": {
            "text/plain": [
              "(1974, 6)"
            ]
          },
          "metadata": {
            "tags": []
          },
          "execution_count": 3
        }
      ]
    },
    {
      "cell_type": "code",
      "metadata": {
        "id": "6V0NmE1wwt9p",
        "colab_type": "code",
        "colab": {
          "base_uri": "https://localhost:8080/",
          "height": 519
        },
        "outputId": "ec06335c-efaf-46ff-abb8-22d1e9af537e"
      },
      "source": [
        "#Visualize the closing price history\n",
        "plt.figure(figsize=(16,8))\n",
        "plt.title('Histórico de Preço de Fechamento')\n",
        "plt.plot(df['Close'])\n",
        "plt.xlabel('Data', fontsize=18)\n",
        "plt.ylabel('Preço Fechamento R($)', fontsize=18)\n",
        "plt.show()"
      ],
      "execution_count": 5,
      "outputs": [
        {
          "output_type": "display_data",
          "data": {
            "image/png": "[encoded data removed]",
            "text/plain": [
              "<Figure size 1152x576 with 1 Axes>"
            ]
          },
          "metadata": {
            "tags": [],
            "needs_background": "light"
          }
        }
      ]
    },
    {
      "cell_type": "code",
      "metadata": {
        "id": "JGPluuAbyNx5",
        "colab_type": "code",
        "colab": {
          "base_uri": "https://localhost:8080/",
          "height": 34
        },
        "outputId": "651c011c-5f7b-434f-c27a-f1b957e0181f"
      },
      "source": [
        "#Create a new dataframe with only the 'close column'\n",
        "data = df.filter(['Close'])\n",
        "#Convert the dataframe to a numpy array\n",
        "dataset = data.values\n",
        "#Get the number of rows to train the model on\n",
        "training_data_len = math.ceil( len(dataset) * .8 )\n",
        "\n",
        "training_data_len"
      ],
      "execution_count": 7,
      "outputs": [
        {
          "output_type": "execute_result",
          "data": {
            "text/plain": [
              "1580"
            ]
          },
          "metadata": {
            "tags": []
          },
          "execution_count": 7
        }
      ]
    },
    {
      "cell_type": "code",
      "metadata": {
        "id": "nKdQ9cUZzIpl",
        "colab_type": "code",
        "colab": {
          "base_uri": "https://localhost:8080/",
          "height": 136
        },
        "outputId": "7d9954a3-c365-43cf-b835-6e08cbd4fb73"
      },
      "source": [
        "#Scale the data\n",
        "scaler = MinMaxScaler(feature_range=(0,1)) \n",
        "scaled_data = scaler.fit_transform(dataset)\n",
        "\n",
        "scaled_data"
      ],
      "execution_count": 8,
      "outputs": [
        {
          "output_type": "execute_result",
          "data": {
            "text/plain": [
              "array([[0.2728343 ],\n",
              "       [0.27024483],\n",
              "       [0.26741995],\n",
              "       ...,\n",
              "       [0.84345571],\n",
              "       [0.82791899],\n",
              "       [0.85334276]])"
            ]
          },
          "metadata": {
            "tags": []
          },
          "execution_count": 8
        }
      ]
    },
    {
      "cell_type": "code",
      "metadata": {
        "id": "4cOAp78o0A-r",
        "colab_type": "code",
        "colab": {
          "base_uri": "https://localhost:8080/",
          "height": 680
        },
        "outputId": "f6dfab6b-f95c-47bd-f725-049b68251c9d"
      },
      "source": [
        "#Create the training data set\n",
        "#Create the sclaed training data set\n",
        "train_data = scaled_data[0:training_data_len , :]\n",
        "#Split the data into x_train and y_train data sets\n",
        "x_train = []\n",
        "y_train = []\n",
        "\n",
        "for i in range(60, len(train_data)):\n",
        "  x_train.append(train_data[i-60:i, 0])\n",
        "  y_train.append(train_data[i,0])\n",
        "  if i<= 61:\n",
        "    print(x_train)\n",
        "    print(y_train)\n",
        "    print()"
      ],
      "execution_count": 11,
      "outputs": [
        {
          "output_type": "stream",
          "text": [
            "[array([0.2728343 , 0.27024483, 0.26741995, 0.26153483, 0.24741053,\n",
            "       0.25188323, 0.26341807, 0.27189266, 0.27683614, 0.28248589,\n",
            "       0.28248589, 0.30720339, 0.3083804 , 0.31544257, 0.31544257,\n",
            "       0.31308851, 0.326742  , 0.33780601, 0.345339  , 0.34110171,\n",
            "       0.34792843, 0.34604519, 0.34369113, 0.34016007, 0.34251412,\n",
            "       0.34604519, 0.33168552, 0.31497175, 0.32226929, 0.34769302,\n",
            "       0.36016949, 0.37806027, 0.36016949, 0.35428437, 0.34486818,\n",
            "       0.33686441, 0.35004707, 0.35193031, 0.36181732, 0.37429379,\n",
            "       0.3754708 , 0.36370056, 0.37311674, 0.37499998, 0.37735404,\n",
            "       0.38017892, 0.39806969, 0.38370998, 0.37429379, 0.3808851 ,\n",
            "       0.37758945, 0.37570621, 0.36370056, 0.34227871, 0.33027306,\n",
            "       0.34604519, 0.34416195, 0.33498118, 0.3215631 , 0.31191151])]\n",
            "[0.3095574486509359]\n",
            "\n",
            "[array([0.2728343 , 0.27024483, 0.26741995, 0.26153483, 0.24741053,\n",
            "       0.25188323, 0.26341807, 0.27189266, 0.27683614, 0.28248589,\n",
            "       0.28248589, 0.30720339, 0.3083804 , 0.31544257, 0.31544257,\n",
            "       0.31308851, 0.326742  , 0.33780601, 0.345339  , 0.34110171,\n",
            "       0.34792843, 0.34604519, 0.34369113, 0.34016007, 0.34251412,\n",
            "       0.34604519, 0.33168552, 0.31497175, 0.32226929, 0.34769302,\n",
            "       0.36016949, 0.37806027, 0.36016949, 0.35428437, 0.34486818,\n",
            "       0.33686441, 0.35004707, 0.35193031, 0.36181732, 0.37429379,\n",
            "       0.3754708 , 0.36370056, 0.37311674, 0.37499998, 0.37735404,\n",
            "       0.38017892, 0.39806969, 0.38370998, 0.37429379, 0.3808851 ,\n",
            "       0.37758945, 0.37570621, 0.36370056, 0.34227871, 0.33027306,\n",
            "       0.34604519, 0.34416195, 0.33498118, 0.3215631 , 0.31191151]), array([0.27024483, 0.26741995, 0.26153483, 0.24741053, 0.25188323,\n",
            "       0.26341807, 0.27189266, 0.27683614, 0.28248589, 0.28248589,\n",
            "       0.30720339, 0.3083804 , 0.31544257, 0.31544257, 0.31308851,\n",
            "       0.326742  , 0.33780601, 0.345339  , 0.34110171, 0.34792843,\n",
            "       0.34604519, 0.34369113, 0.34016007, 0.34251412, 0.34604519,\n",
            "       0.33168552, 0.31497175, 0.32226929, 0.34769302, 0.36016949,\n",
            "       0.37806027, 0.36016949, 0.35428437, 0.34486818, 0.33686441,\n",
            "       0.35004707, 0.35193031, 0.36181732, 0.37429379, 0.3754708 ,\n",
            "       0.36370056, 0.37311674, 0.37499998, 0.37735404, 0.38017892,\n",
            "       0.39806969, 0.38370998, 0.37429379, 0.3808851 , 0.37758945,\n",
            "       0.37570621, 0.36370056, 0.34227871, 0.33027306, 0.34604519,\n",
            "       0.34416195, 0.33498118, 0.3215631 , 0.31191151, 0.30955745])]\n",
            "[0.3095574486509359, 0.30649715988922205]\n",
            "\n"
          ],
          "name": "stdout"
        }
      ]
    },
    {
      "cell_type": "code",
      "metadata": {
        "id": "rLYd9ViQ2YCM",
        "colab_type": "code",
        "colab": {}
      },
      "source": [
        "#Convert the x_train and y_train to numpy arrays\n",
        "x_train, y_train = np.array(x_train), np.array(y_train)"
      ],
      "execution_count": 0,
      "outputs": []
    },
    {
      "cell_type": "code",
      "metadata": {
        "id": "r4BPf6mi215A",
        "colab_type": "code",
        "colab": {
          "base_uri": "https://localhost:8080/",
          "height": 34
        },
        "outputId": "38169e62-e1ff-43e1-8eb4-7415b595b63a"
      },
      "source": [
        "#Reshape the data\n",
        "x_train = np.reshape(x_train, (x_train.shape[0], x_train.shape[1], 1))\n",
        "x_train.shape"
      ],
      "execution_count": 15,
      "outputs": [
        {
          "output_type": "execute_result",
          "data": {
            "text/plain": [
              "(1520, 60, 1)"
            ]
          },
          "metadata": {
            "tags": []
          },
          "execution_count": 15
        }
      ]
    },
    {
      "cell_type": "code",
      "metadata": {
        "id": "cJQglBFS3XNx",
        "colab_type": "code",
        "colab": {}
      },
      "source": [
        "#Build the LSTM model\n",
        "model = Sequential()\n",
        "model.add(LSTM(50, return_sequences=True, input_shape= (x_train.shape[1], 1)))\n",
        "model.add(LSTM(50, return_sequences= False))\n",
        "model.add(Dense(25))\n",
        "model.add(Dense(1))"
      ],
      "execution_count": 0,
      "outputs": []
    },
    {
      "cell_type": "code",
      "metadata": {
        "id": "cGD7PiO64dAY",
        "colab_type": "code",
        "colab": {}
      },
      "source": [
        "#Compile the model\n",
        "model.compile(optimizer='adam', loss='mean_squared_error')"
      ],
      "execution_count": 0,
      "outputs": []
    },
    {
      "cell_type": "code",
      "metadata": {
        "id": "Vqo1yuBD4t7p",
        "colab_type": "code",
        "colab": {
          "base_uri": "https://localhost:8080/",
          "height": 68
        },
        "outputId": "095277cc-9388-43c6-8c72-5da616f39d3a"
      },
      "source": [
        "#Train the model\n",
        "model.fit(x_train, y_train, batch_size=1, epochs=1)"
      ],
      "execution_count": 21,
      "outputs": [
        {
          "output_type": "stream",
          "text": [
            "Epoch 1/1\n",
            "1520/1520 [==============================] - 63s 42ms/step - loss: 0.0015\n"
          ],
          "name": "stdout"
        },
        {
          "output_type": "execute_result",
          "data": {
            "text/plain": [
              "<keras.callbacks.callbacks.History at 0x7ff2b61d5438>"
            ]
          },
          "metadata": {
            "tags": []
          },
          "execution_count": 21
        }
      ]
    },
    {
      "cell_type": "code",
      "metadata": {
        "id": "gVq1eLNM5pvE",
        "colab_type": "code",
        "colab": {}
      },
      "source": [
        "#Create the testing data set\n",
        "#Create a new array containing scaled values from index 1520 to 1974\n",
        "test_data = scaled_data[training_data_len - 60: , :]\n",
        "#Create the data set x_test and y_test\n",
        "x_test = []\n",
        "y_test = dataset[training_data_len:, :]\n",
        "for i in range(60, len(test_data)):\n",
        "  x_test.append(test_data[i-60:i, 0])\n"
      ],
      "execution_count": 0,
      "outputs": []
    },
    {
      "cell_type": "code",
      "metadata": {
        "id": "sMPAiMlN7kVq",
        "colab_type": "code",
        "colab": {}
      },
      "source": [
        "#Convert the data to a numpy array\n",
        "x_test = np.array(x_test)"
      ],
      "execution_count": 0,
      "outputs": []
    },
    {
      "cell_type": "code",
      "metadata": {
        "id": "_B306Ddt7xIj",
        "colab_type": "code",
        "colab": {}
      },
      "source": [
        "#Shape the data\n",
        "x_test = np.reshape(x_test, (x_test.shape[0], x_test.shape[1], 1 ))"
      ],
      "execution_count": 0,
      "outputs": []
    },
    {
      "cell_type": "code",
      "metadata": {
        "id": "BYOZjC8O8Kny",
        "colab_type": "code",
        "colab": {}
      },
      "source": [
        "#Get the models predict price values\n",
        "predictions = model.predict(x_test)\n",
        "predictions = scaler.inverse_transform(predictions)\n"
      ],
      "execution_count": 0,
      "outputs": []
    },
    {
      "cell_type": "code",
      "metadata": {
        "id": "JRli8CDg8yui",
        "colab_type": "code",
        "colab": {
          "base_uri": "https://localhost:8080/",
          "height": 34
        },
        "outputId": "b2b112a3-fb24-49a4-857c-510fe01c9e99"
      },
      "source": [
        "#Get the root mean error (RMSE)\n",
        "rmse = np.sqrt( np.mean(predictions - y_test ) **2 )\n",
        "rmse"
      ],
      "execution_count": 27,
      "outputs": [
        {
          "output_type": "execute_result",
          "data": {
            "text/plain": [
              "1.2961622809395572"
            ]
          },
          "metadata": {
            "tags": []
          },
          "execution_count": 27
        }
      ]
    },
    {
      "cell_type": "code",
      "metadata": {
        "id": "747RgsuP9vRl",
        "colab_type": "code",
        "colab": {
          "base_uri": "https://localhost:8080/",
          "height": 617
        },
        "outputId": "b9c4cf67-7c77-4bc0-9a78-79114b1f0988"
      },
      "source": [
        "#Plot the data\n",
        "train = data[:training_data_len]\n",
        "valid = data[training_data_len:]\n",
        "valid['Predictions'] = predictions\n",
        "#Visualize the data\n",
        "plt.figure(figsize=(16,8)) \n",
        "plt.title('Model')\n",
        "plt.xlabel('Data', fontsize=16)\n",
        "plt.ylabel('Preço de Fechamento R($)', fontsize=16)\n",
        "plt.plot(train['Close'])\n",
        "plt.plot(valid[['Close', 'Predictions']])\n",
        "plt.legend(['Train', 'Val', 'Predictions'], loc='lower right')\n",
        "plt.show()"
      ],
      "execution_count": 32,
      "outputs": [
        {
          "output_type": "stream",
          "text": [
            "/usr/local/lib/python3.6/dist-packages/ipykernel_launcher.py:4: SettingWithCopyWarning: \n",
            "A value is trying to be set on a copy of a slice from a DataFrame.\n",
            "Try using .loc[row_indexer,col_indexer] = value instead\n",
            "\n",
            "See the caveats in the documentation: https://pandas.pydata.org/pandas-docs/stable/user_guide/indexing.html#returning-a-view-versus-a-copy\n",
            "  after removing the cwd from sys.path.\n"
          ],
          "name": "stderr"
        },
        {
          "output_type": "display_data",
          "data": {
            "image/png": "[encoded data removed]",
            "text/plain": [
              "<Figure size 1152x576 with 1 Axes>"
            ]
          },
          "metadata": {
            "tags": [],
            "needs_background": "light"
          }
        }
      ]
    },
    {
      "cell_type": "code",
      "metadata": {
        "id": "QcSDjCFrAlnN",
        "colab_type": "code",
        "colab": {
          "base_uri": "https://localhost:8080/",
          "height": 450
        },
        "outputId": "1e3c4ffe-45d9-483c-ef0f-5ec1929538a9"
      },
      "source": [
        "#Show the valid and predictied prices\n",
        "valid"
      ],
      "execution_count": 33,
      "outputs": [
        {
          "output_type": "execute_result",
          "data": {
            "text/html": [
              "<div>\n",
              "<style scoped>\n",
              "    .dataframe tbody tr th:only-of-type {\n",
              "        vertical-align: middle;\n",
              "    }\n",
              "\n",
              "    .dataframe tbody tr th {\n",
              "        vertical-align: top;\n",
              "    }\n",
              "\n",
              "    .dataframe thead th {\n",
              "        text-align: right;\n",
              "    }\n",
              "</style>\n",
              "<table border=\"1\" class=\"dataframe\">\n",
              "  <thead>\n",
              "    <tr style=\"text-align: right;\">\n",
              "      <th></th>\n",
              "      <th>Close</th>\n",
              "      <th>Predictions</th>\n",
              "    </tr>\n",
              "    <tr>\n",
              "      <th>Date</th>\n",
              "      <th></th>\n",
              "      <th></th>\n",
              "    </tr>\n",
              "  </thead>\n",
              "  <tbody>\n",
              "    <tr>\n",
              "      <th>2018-05-16</th>\n",
              "      <td>34.470001</td>\n",
              "      <td>34.343094</td>\n",
              "    </tr>\n",
              "    <tr>\n",
              "      <th>2018-05-17</th>\n",
              "      <td>32.869999</td>\n",
              "      <td>33.890640</td>\n",
              "    </tr>\n",
              "    <tr>\n",
              "      <th>2018-05-18</th>\n",
              "      <td>32.689999</td>\n",
              "      <td>33.187012</td>\n",
              "    </tr>\n",
              "    <tr>\n",
              "      <th>2018-05-21</th>\n",
              "      <td>31.910000</td>\n",
              "      <td>32.541706</td>\n",
              "    </tr>\n",
              "    <tr>\n",
              "      <th>2018-05-22</th>\n",
              "      <td>32.400002</td>\n",
              "      <td>31.889620</td>\n",
              "    </tr>\n",
              "    <tr>\n",
              "      <th>...</th>\n",
              "      <td>...</td>\n",
              "      <td>...</td>\n",
              "    </tr>\n",
              "    <tr>\n",
              "      <th>2019-12-11</th>\n",
              "      <td>47.849998</td>\n",
              "      <td>47.011383</td>\n",
              "    </tr>\n",
              "    <tr>\n",
              "      <th>2019-12-12</th>\n",
              "      <td>48.910000</td>\n",
              "      <td>46.700752</td>\n",
              "    </tr>\n",
              "    <tr>\n",
              "      <th>2019-12-13</th>\n",
              "      <td>48.529999</td>\n",
              "      <td>46.808338</td>\n",
              "    </tr>\n",
              "    <tr>\n",
              "      <th>2019-12-16</th>\n",
              "      <td>47.869999</td>\n",
              "      <td>46.916321</td>\n",
              "    </tr>\n",
              "    <tr>\n",
              "      <th>2019-12-17</th>\n",
              "      <td>48.950001</td>\n",
              "      <td>46.795616</td>\n",
              "    </tr>\n",
              "  </tbody>\n",
              "</table>\n",
              "<p>394 rows × 2 columns</p>\n",
              "</div>"
            ],
            "text/plain": [
              "                Close  Predictions\n",
              "Date                              \n",
              "2018-05-16  34.470001    34.343094\n",
              "2018-05-17  32.869999    33.890640\n",
              "2018-05-18  32.689999    33.187012\n",
              "2018-05-21  31.910000    32.541706\n",
              "2018-05-22  32.400002    31.889620\n",
              "...               ...          ...\n",
              "2019-12-11  47.849998    47.011383\n",
              "2019-12-12  48.910000    46.700752\n",
              "2019-12-13  48.529999    46.808338\n",
              "2019-12-16  47.869999    46.916321\n",
              "2019-12-17  48.950001    46.795616\n",
              "\n",
              "[394 rows x 2 columns]"
            ]
          },
          "metadata": {
            "tags": []
          },
          "execution_count": 33
        }
      ]
    },
    {
      "cell_type": "code",
      "metadata": {
        "id": "_76bYrv4A7vX",
        "colab_type": "code",
        "colab": {
          "base_uri": "https://localhost:8080/",
          "height": 34
        },
        "outputId": "6f2c185b-bec7-48ec-f104-f6e6d59d6b8f"
      },
      "source": [
        "#Get the quote\n",
        "bb_quote = web.DataReader('BBAS3.SA', data_source='yahoo', start='2012-01-01', end='2019-12-17')\n",
        "#Create a new dataframe\n",
        "new_df = bb_quote.filter(['Close'])\n",
        "#Get the last 60day closing price values and convert the dataframe to an array\n",
        "last_60_days = new_df[-60:].values\n",
        "#Scale the data to be values between 0 and 1\n",
        "last_60_days_scaled = scaler.transform(last_60_days)\n",
        "#Create an empty list\n",
        "X_test = []\n",
        "#Append the past 60 days\n",
        "X_test.append(last_60_days_scaled)\n",
        "#Convert the X_test data set to a numpy array\n",
        "X_test = np.array(X_test)\n",
        "#Reshape the date\n",
        "X_test = np.reshape(X_test, (X_test.shape[0], X_test.shape[1], 1))\n",
        "#Get the predicted scaled price\n",
        "pred_price = model.predict(X_test)\n",
        "#undo the scaling\n",
        "pred_price = scaler.inverse_transform(pred_price)\n",
        "print(pred_price)\n",
        "\n"
      ],
      "execution_count": 35,
      "outputs": [
        {
          "output_type": "stream",
          "text": [
            "[[46.977947]]\n"
          ],
          "name": "stdout"
        }
      ]
    },
    {
      "cell_type": "code",
      "metadata": {
        "id": "ao8sp-GYEF8_",
        "colab_type": "code",
        "colab": {
          "base_uri": "https://localhost:8080/",
          "height": 68
        },
        "outputId": "71884f28-0604-4ad5-f632-52d84da59b66"
      },
      "source": [
        "#Get the quote\n",
        "bb_quote2 = web.DataReader('BBAS3.SA', data_source='yahoo', start='2019-12-18', end='2019-12-18')\n",
        "print(bb_quote2['Close'])"
      ],
      "execution_count": 36,
      "outputs": [
        {
          "output_type": "stream",
          "text": [
            "Date\n",
            "2019-12-18    50.639999\n",
            "Name: Close, dtype: float64\n"
          ],
          "name": "stdout"
        }
      ]
    }
  ]
}