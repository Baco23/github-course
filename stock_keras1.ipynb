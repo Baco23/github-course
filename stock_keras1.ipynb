{
  "nbformat": 4,
  "nbformat_minor": 0,
  "metadata": {
    "colab": {
      "name": "Untitled8.ipynb",
      "provenance": [],
      "authorship_tag": "ABX9TyMtxErnB/adOW7DXj8RvTSI",
      "include_colab_link": true
    },
    "kernelspec": {
      "name": "python3",
      "display_name": "Python 3"
    }
  },
  "cells": [
    {
      "cell_type": "markdown",
      "metadata": {
        "id": "view-in-github",
        "colab_type": "text"
      },
      "source": [
        "<a href=\"https://colab.research.google.com/github/Baco23/github-course/blob/master/stock_keras1.ipynb\" target=\"_parent\"><img src=\"https://colab.research.google.com/assets/colab-badge.svg\" alt=\"Open In Colab\"/></a>"
      ]
    },
    {
      "cell_type": "code",
      "metadata": {
        "id": "r1MkU4-ur2bV",
        "colab_type": "code",
        "colab": {}
      },
      "source": [
        "# Description: program uses an artificial recurrent neural network called Long Short Term Memory(LSTM) \n",
        "#              to predict the closing stock price of a corporation(BBAS3) using the past 70 day stock price. "
      ],
      "execution_count": 0,
      "outputs": []
    },
    {
      "cell_type": "code",
      "metadata": {
        "id": "cGfXQ3qPuIuJ",
        "colab_type": "code",
        "colab": {}
      },
      "source": [
        "#Import libraries\n",
        "import math\n",
        "import pandas_datareader as web\n",
        "import numpy as np\n",
        "import pandas as pd\n",
        "from sklearn.preprocessing import MinMaxScaler\n",
        "from keras.models import Sequential\n",
        "from keras.layers import Dense, LSTM\n",
        "import matplotlib.pyplot as plt\n",
        "plt.style.use('fivethirtyeight')\n"
      ],
      "execution_count": 0,
      "outputs": []
    },
    {
      "cell_type": "code",
      "metadata": {
        "id": "kK0OIL_bvK0E",
        "colab_type": "code",
        "outputId": "ffa82485-94bb-4b6e-bc6f-6771c89832cf",
        "colab": {
          "base_uri": "https://localhost:8080/",
          "height": 450
        }
      },
      "source": [
        "df = web.DataReader('BBAS3.SA', data_source='yahoo', start='2013-06-04', end='2020-06-03')\n",
        "#Show the data\n",
        "df"
      ],
      "execution_count": 46,
      "outputs": [
        {
          "output_type": "execute_result",
          "data": {
            "text/html": [
              "<div>\n",
              "<style scoped>\n",
              "    .dataframe tbody tr th:only-of-type {\n",
              "        vertical-align: middle;\n",
              "    }\n",
              "\n",
              "    .dataframe tbody tr th {\n",
              "        vertical-align: top;\n",
              "    }\n",
              "\n",
              "    .dataframe thead th {\n",
              "        text-align: right;\n",
              "    }\n",
              "</style>\n",
              "<table border=\"1\" class=\"dataframe\">\n",
              "  <thead>\n",
              "    <tr style=\"text-align: right;\">\n",
              "      <th></th>\n",
              "      <th>High</th>\n",
              "      <th>Low</th>\n",
              "      <th>Open</th>\n",
              "      <th>Close</th>\n",
              "      <th>Volume</th>\n",
              "      <th>Adj Close</th>\n",
              "    </tr>\n",
              "    <tr>\n",
              "      <th>Date</th>\n",
              "      <th></th>\n",
              "      <th></th>\n",
              "      <th></th>\n",
              "      <th></th>\n",
              "      <th></th>\n",
              "      <th></th>\n",
              "    </tr>\n",
              "  </thead>\n",
              "  <tbody>\n",
              "    <tr>\n",
              "      <th>2013-06-04</th>\n",
              "      <td>25.760000</td>\n",
              "      <td>24.850000</td>\n",
              "      <td>25.709999</td>\n",
              "      <td>25.040001</td>\n",
              "      <td>6683800.0</td>\n",
              "      <td>16.342472</td>\n",
              "    </tr>\n",
              "    <tr>\n",
              "      <th>2013-06-05</th>\n",
              "      <td>25.090000</td>\n",
              "      <td>24.299999</td>\n",
              "      <td>25.000000</td>\n",
              "      <td>24.450001</td>\n",
              "      <td>10158100.0</td>\n",
              "      <td>15.957406</td>\n",
              "    </tr>\n",
              "    <tr>\n",
              "      <th>2013-06-06</th>\n",
              "      <td>24.620001</td>\n",
              "      <td>24.010000</td>\n",
              "      <td>24.500000</td>\n",
              "      <td>24.360001</td>\n",
              "      <td>6159200.0</td>\n",
              "      <td>15.898671</td>\n",
              "    </tr>\n",
              "    <tr>\n",
              "      <th>2013-06-07</th>\n",
              "      <td>24.360001</td>\n",
              "      <td>23.400000</td>\n",
              "      <td>24.000000</td>\n",
              "      <td>23.700001</td>\n",
              "      <td>10921100.0</td>\n",
              "      <td>15.467915</td>\n",
              "    </tr>\n",
              "    <tr>\n",
              "      <th>2013-06-10</th>\n",
              "      <td>24.250000</td>\n",
              "      <td>23.549999</td>\n",
              "      <td>23.580000</td>\n",
              "      <td>23.940001</td>\n",
              "      <td>8660700.0</td>\n",
              "      <td>15.624550</td>\n",
              "    </tr>\n",
              "    <tr>\n",
              "      <th>...</th>\n",
              "      <td>...</td>\n",
              "      <td>...</td>\n",
              "      <td>...</td>\n",
              "      <td>...</td>\n",
              "      <td>...</td>\n",
              "      <td>...</td>\n",
              "    </tr>\n",
              "    <tr>\n",
              "      <th>2020-05-28</th>\n",
              "      <td>31.459999</td>\n",
              "      <td>30.209999</td>\n",
              "      <td>30.610001</td>\n",
              "      <td>30.790001</td>\n",
              "      <td>20732700.0</td>\n",
              "      <td>30.790001</td>\n",
              "    </tr>\n",
              "    <tr>\n",
              "      <th>2020-05-29</th>\n",
              "      <td>30.850000</td>\n",
              "      <td>29.750000</td>\n",
              "      <td>30.500000</td>\n",
              "      <td>30.840000</td>\n",
              "      <td>26926700.0</td>\n",
              "      <td>30.840000</td>\n",
              "    </tr>\n",
              "    <tr>\n",
              "      <th>2020-06-01</th>\n",
              "      <td>32.150002</td>\n",
              "      <td>30.559999</td>\n",
              "      <td>30.770000</td>\n",
              "      <td>31.799999</td>\n",
              "      <td>22043600.0</td>\n",
              "      <td>31.799999</td>\n",
              "    </tr>\n",
              "    <tr>\n",
              "      <th>2020-06-02</th>\n",
              "      <td>32.900002</td>\n",
              "      <td>32.279999</td>\n",
              "      <td>32.599998</td>\n",
              "      <td>32.820000</td>\n",
              "      <td>15772200.0</td>\n",
              "      <td>32.820000</td>\n",
              "    </tr>\n",
              "    <tr>\n",
              "      <th>2020-06-03</th>\n",
              "      <td>35.000000</td>\n",
              "      <td>33.840000</td>\n",
              "      <td>34.470001</td>\n",
              "      <td>34.750000</td>\n",
              "      <td>29497200.0</td>\n",
              "      <td>34.750000</td>\n",
              "    </tr>\n",
              "  </tbody>\n",
              "</table>\n",
              "<p>1738 rows × 6 columns</p>\n",
              "</div>"
            ],
            "text/plain": [
              "                 High        Low       Open      Close      Volume  Adj Close\n",
              "Date                                                                         \n",
              "2013-06-04  25.760000  24.850000  25.709999  25.040001   6683800.0  16.342472\n",
              "2013-06-05  25.090000  24.299999  25.000000  24.450001  10158100.0  15.957406\n",
              "2013-06-06  24.620001  24.010000  24.500000  24.360001   6159200.0  15.898671\n",
              "2013-06-07  24.360001  23.400000  24.000000  23.700001  10921100.0  15.467915\n",
              "2013-06-10  24.250000  23.549999  23.580000  23.940001   8660700.0  15.624550\n",
              "...               ...        ...        ...        ...         ...        ...\n",
              "2020-05-28  31.459999  30.209999  30.610001  30.790001  20732700.0  30.790001\n",
              "2020-05-29  30.850000  29.750000  30.500000  30.840000  26926700.0  30.840000\n",
              "2020-06-01  32.150002  30.559999  30.770000  31.799999  22043600.0  31.799999\n",
              "2020-06-02  32.900002  32.279999  32.599998  32.820000  15772200.0  32.820000\n",
              "2020-06-03  35.000000  33.840000  34.470001  34.750000  29497200.0  34.750000\n",
              "\n",
              "[1738 rows x 6 columns]"
            ]
          },
          "metadata": {
            "tags": []
          },
          "execution_count": 46
        }
      ]
    },
    {
      "cell_type": "code",
      "metadata": {
        "id": "oqIqrPO0wc9R",
        "colab_type": "code",
        "outputId": "ac2fb85d-2a7b-4f0b-fa82-3227acbbad22",
        "colab": {
          "base_uri": "https://localhost:8080/",
          "height": 34
        }
      },
      "source": [
        "#Get the number of rows and columns in the data set\n",
        "df.shape"
      ],
      "execution_count": 47,
      "outputs": [
        {
          "output_type": "execute_result",
          "data": {
            "text/plain": [
              "(1738, 6)"
            ]
          },
          "metadata": {
            "tags": []
          },
          "execution_count": 47
        }
      ]
    },
    {
      "cell_type": "code",
      "metadata": {
        "id": "6V0NmE1wwt9p",
        "colab_type": "code",
        "outputId": "502761f4-dbce-460a-fed5-3a6aa0b94b61",
        "colab": {
          "base_uri": "https://localhost:8080/",
          "height": 556
        }
      },
      "source": [
        "#Visualize the closing price history\n",
        "plt.figure(figsize=(14,8))\n",
        "plt.title('Histórico de Preço de Fechamento')\n",
        "plt.plot(df['Close'])\n",
        "plt.xlabel('Data', fontsize=16)\n",
        "plt.ylabel('Preço Fechamento R($)', fontsize=16)\n",
        "plt.show()"
      ],
      "execution_count": 48,
      "outputs": [
        {
          "output_type": "display_data",
          "data": {
            "image/png": "[encoded data removed]",
            "text/plain": [
              "<Figure size 1008x576 with 1 Axes>"
            ]
          },
          "metadata": {
            "tags": []
          }
        }
      ]
    },
    {
      "cell_type": "code",
      "metadata": {
        "id": "JGPluuAbyNx5",
        "colab_type": "code",
        "outputId": "d8abedf3-c4ef-448b-922f-4120a12d926e",
        "colab": {
          "base_uri": "https://localhost:8080/",
          "height": 34
        }
      },
      "source": [
        "#Create a new dataframe with only the 'close column'\n",
        "data = df.filter(['Close'])\n",
        "#Convert the dataframe to a numpy array\n",
        "dataset = data.values\n",
        "#Get the number of rows to train the model on\n",
        "training_data_len = math.ceil( len(dataset) * .8 )\n",
        "\n",
        "training_data_len"
      ],
      "execution_count": 49,
      "outputs": [
        {
          "output_type": "execute_result",
          "data": {
            "text/plain": [
              "1391"
            ]
          },
          "metadata": {
            "tags": []
          },
          "execution_count": 49
        }
      ]
    },
    {
      "cell_type": "code",
      "metadata": {
        "id": "nKdQ9cUZzIpl",
        "colab_type": "code",
        "outputId": "59b6627c-cac8-4c2c-d510-ee47ad8f0b9d",
        "colab": {
          "base_uri": "https://localhost:8080/",
          "height": 136
        }
      },
      "source": [
        "#Scale the data\n",
        "scaler = MinMaxScaler(feature_range=(0,1)) \n",
        "scaled_data = scaler.fit_transform(dataset)\n",
        "\n",
        "scaled_data"
      ],
      "execution_count": 50,
      "outputs": [
        {
          "output_type": "execute_result",
          "data": {
            "text/plain": [
              "array([[0.29048966],\n",
              "       [0.27660077],\n",
              "       [0.27448212],\n",
              "       ...,\n",
              "       [0.44962333],\n",
              "       [0.47363464],\n",
              "       [0.5190678 ]])"
            ]
          },
          "metadata": {
            "tags": []
          },
          "execution_count": 50
        }
      ]
    },
    {
      "cell_type": "code",
      "metadata": {
        "id": "4cOAp78o0A-r",
        "colab_type": "code",
        "outputId": "4a48980b-de4a-4fe5-ee2c-6cc211b60300",
        "colab": {
          "base_uri": "https://localhost:8080/",
          "height": 782
        }
      },
      "source": [
        "#Create the training data set\n",
        "#Create the sclaed training data set\n",
        "train_data = scaled_data[0:training_data_len , :]\n",
        "#Split the data into x_train and y_train data sets\n",
        "x_train = []\n",
        "y_train = []\n",
        "\n",
        "for i in range(70, len(train_data)):\n",
        "  x_train.append(train_data[i-70:i, 0])\n",
        "  y_train.append(train_data[i,0])\n",
        "  if i<= 71:\n",
        "    print(x_train)\n",
        "    print(y_train)\n",
        "    print()"
      ],
      "execution_count": 51,
      "outputs": [
        {
          "output_type": "stream",
          "text": [
            "[array([0.29048966, 0.27660077, 0.27448212, 0.25894541, 0.26459512,\n",
            "       0.25070623, 0.22693033, 0.23799434, 0.24058381, 0.24199622,\n",
            "       0.23305086, 0.21633709, 0.19891713, 0.19821094, 0.19703389,\n",
            "       0.20127119, 0.2024482 , 0.20762713, 0.22033897, 0.22245762,\n",
            "       0.19303201, 0.17890771, 0.18620529, 0.1822034 , 0.18149717,\n",
            "       0.18455746, 0.19938795, 0.19538607, 0.20927496, 0.22363467,\n",
            "       0.22834274, 0.23281545, 0.22645951, 0.23681733, 0.24340869,\n",
            "       0.23917139, 0.23281545, 0.23281545, 0.23516951, 0.24105463,\n",
            "       0.23469869, 0.24599811, 0.23799434, 0.22387004, 0.20527307,\n",
            "       0.20291902, 0.22151602, 0.23305086, 0.24129004, 0.25047081,\n",
            "       0.25353106, 0.24717516, 0.24599811, 0.23116762, 0.22598868,\n",
            "       0.21845574, 0.21774955, 0.22457627, 0.21421844, 0.21421844,\n",
            "       0.22128061, 0.23352168, 0.24364405, 0.24835217, 0.24317328,\n",
            "       0.24741053, 0.25588512, 0.26129942, 0.27165725, 0.28130884])]\n",
            "[0.2704802398930897]\n",
            "\n",
            "[array([0.29048966, 0.27660077, 0.27448212, 0.25894541, 0.26459512,\n",
            "       0.25070623, 0.22693033, 0.23799434, 0.24058381, 0.24199622,\n",
            "       0.23305086, 0.21633709, 0.19891713, 0.19821094, 0.19703389,\n",
            "       0.20127119, 0.2024482 , 0.20762713, 0.22033897, 0.22245762,\n",
            "       0.19303201, 0.17890771, 0.18620529, 0.1822034 , 0.18149717,\n",
            "       0.18455746, 0.19938795, 0.19538607, 0.20927496, 0.22363467,\n",
            "       0.22834274, 0.23281545, 0.22645951, 0.23681733, 0.24340869,\n",
            "       0.23917139, 0.23281545, 0.23281545, 0.23516951, 0.24105463,\n",
            "       0.23469869, 0.24599811, 0.23799434, 0.22387004, 0.20527307,\n",
            "       0.20291902, 0.22151602, 0.23305086, 0.24129004, 0.25047081,\n",
            "       0.25353106, 0.24717516, 0.24599811, 0.23116762, 0.22598868,\n",
            "       0.21845574, 0.21774955, 0.22457627, 0.21421844, 0.21421844,\n",
            "       0.22128061, 0.23352168, 0.24364405, 0.24835217, 0.24317328,\n",
            "       0.24741053, 0.25588512, 0.26129942, 0.27165725, 0.28130884]), array([0.27660077, 0.27448212, 0.25894541, 0.26459512, 0.25070623,\n",
            "       0.22693033, 0.23799434, 0.24058381, 0.24199622, 0.23305086,\n",
            "       0.21633709, 0.19891713, 0.19821094, 0.19703389, 0.20127119,\n",
            "       0.2024482 , 0.20762713, 0.22033897, 0.22245762, 0.19303201,\n",
            "       0.17890771, 0.18620529, 0.1822034 , 0.18149717, 0.18455746,\n",
            "       0.19938795, 0.19538607, 0.20927496, 0.22363467, 0.22834274,\n",
            "       0.23281545, 0.22645951, 0.23681733, 0.24340869, 0.23917139,\n",
            "       0.23281545, 0.23281545, 0.23516951, 0.24105463, 0.23469869,\n",
            "       0.24599811, 0.23799434, 0.22387004, 0.20527307, 0.20291902,\n",
            "       0.22151602, 0.23305086, 0.24129004, 0.25047081, 0.25353106,\n",
            "       0.24717516, 0.24599811, 0.23116762, 0.22598868, 0.21845574,\n",
            "       0.21774955, 0.22457627, 0.21421844, 0.21421844, 0.22128061,\n",
            "       0.23352168, 0.24364405, 0.24835217, 0.24317328, 0.24741053,\n",
            "       0.25588512, 0.26129942, 0.27165725, 0.28130884, 0.27048024])]\n",
            "[0.2704802398930897, 0.2608286428444602]\n",
            "\n"
          ],
          "name": "stdout"
        }
      ]
    },
    {
      "cell_type": "code",
      "metadata": {
        "id": "rLYd9ViQ2YCM",
        "colab_type": "code",
        "colab": {}
      },
      "source": [
        "#Convert the x_train and y_train to numpy arrays\n",
        "x_train, y_train = np.array(x_train), np.array(y_train)"
      ],
      "execution_count": 0,
      "outputs": []
    },
    {
      "cell_type": "code",
      "metadata": {
        "id": "r4BPf6mi215A",
        "colab_type": "code",
        "outputId": "4bf69bb9-2843-4681-9d87-a8baf3db39c0",
        "colab": {
          "base_uri": "https://localhost:8080/",
          "height": 34
        }
      },
      "source": [
        "#Reshape the data\n",
        "x_train = np.reshape(x_train, (x_train.shape[0], x_train.shape[1], 1))\n",
        "x_train.shape"
      ],
      "execution_count": 53,
      "outputs": [
        {
          "output_type": "execute_result",
          "data": {
            "text/plain": [
              "(1321, 70, 1)"
            ]
          },
          "metadata": {
            "tags": []
          },
          "execution_count": 53
        }
      ]
    },
    {
      "cell_type": "code",
      "metadata": {
        "id": "cJQglBFS3XNx",
        "colab_type": "code",
        "colab": {}
      },
      "source": [
        "#Build the LSTM model\n",
        "model = Sequential()\n",
        "model.add(LSTM(55, return_sequences=True, input_shape= (x_train.shape[1], 1)))\n",
        "model.add(LSTM(55, return_sequences= False))\n",
        "model.add(Dense(30))\n",
        "model.add(Dense(1))"
      ],
      "execution_count": 0,
      "outputs": []
    },
    {
      "cell_type": "code",
      "metadata": {
        "id": "cGD7PiO64dAY",
        "colab_type": "code",
        "colab": {}
      },
      "source": [
        "#Compile the model\n",
        "model.compile(optimizer='adam', loss='mean_squared_error')"
      ],
      "execution_count": 0,
      "outputs": []
    },
    {
      "cell_type": "code",
      "metadata": {
        "id": "Vqo1yuBD4t7p",
        "colab_type": "code",
        "outputId": "0ca72408-3c89-4cfa-d0f8-5fb62ac7da39",
        "colab": {
          "base_uri": "https://localhost:8080/",
          "height": 68
        }
      },
      "source": [
        "#Train the model\n",
        "model.fit(x_train, y_train, batch_size=1, epochs=1)"
      ],
      "execution_count": 56,
      "outputs": [
        {
          "output_type": "stream",
          "text": [
            "Epoch 1/1\n",
            "1321/1321 [==============================] - 53s 40ms/step - loss: 0.0027\n"
          ],
          "name": "stdout"
        },
        {
          "output_type": "execute_result",
          "data": {
            "text/plain": [
              "<keras.callbacks.callbacks.History at 0x7f6c15555ef0>"
            ]
          },
          "metadata": {
            "tags": []
          },
          "execution_count": 56
        }
      ]
    },
    {
      "cell_type": "code",
      "metadata": {
        "id": "gVq1eLNM5pvE",
        "colab_type": "code",
        "colab": {}
      },
      "source": [
        "#Create the testing data set\n",
        "#Create a new array containing scaled values from index 1321 to 1738\n",
        "test_data = scaled_data[training_data_len - 70: , :]\n",
        "#Create the data set x_test and y_test\n",
        "x_test = []\n",
        "y_test = dataset[training_data_len:, :]\n",
        "for i in range(70, len(test_data)):\n",
        "  x_test.append(test_data[i-70:i, 0])\n"
      ],
      "execution_count": 0,
      "outputs": []
    },
    {
      "cell_type": "code",
      "metadata": {
        "id": "sMPAiMlN7kVq",
        "colab_type": "code",
        "colab": {}
      },
      "source": [
        "#Convert the data to a numpy array\n",
        "x_test = np.array(x_test)"
      ],
      "execution_count": 0,
      "outputs": []
    },
    {
      "cell_type": "code",
      "metadata": {
        "id": "_B306Ddt7xIj",
        "colab_type": "code",
        "colab": {}
      },
      "source": [
        "#Shape the data\n",
        "x_test = np.reshape(x_test, (x_test.shape[0], x_test.shape[1], 1 ))"
      ],
      "execution_count": 0,
      "outputs": []
    },
    {
      "cell_type": "code",
      "metadata": {
        "id": "BYOZjC8O8Kny",
        "colab_type": "code",
        "colab": {}
      },
      "source": [
        "#Get the models predict price values\n",
        "predictions = model.predict(x_test)\n",
        "predictions = scaler.inverse_transform(predictions)\n"
      ],
      "execution_count": 0,
      "outputs": []
    },
    {
      "cell_type": "code",
      "metadata": {
        "id": "JRli8CDg8yui",
        "colab_type": "code",
        "outputId": "f2594962-3c3f-4861-cda5-c2532bc88af3",
        "colab": {
          "base_uri": "https://localhost:8080/",
          "height": 34
        }
      },
      "source": [
        "#Get the root mean error (RMSE)\n",
        "rmse = np.sqrt( np.mean(predictions - y_test ) **2 )\n",
        "rmse"
      ],
      "execution_count": 62,
      "outputs": [
        {
          "output_type": "execute_result",
          "data": {
            "text/plain": [
              "1.4041934054591814"
            ]
          },
          "metadata": {
            "tags": []
          },
          "execution_count": 62
        }
      ]
    },
    {
      "cell_type": "code",
      "metadata": {
        "id": "747RgsuP9vRl",
        "colab_type": "code",
        "outputId": "7957c407-5f38-463d-d704-4f4d1d28a098",
        "colab": {
          "base_uri": "https://localhost:8080/",
          "height": 559
        }
      },
      "source": [
        "#Plot the data\n",
        "train = data[:training_data_len]\n",
        "valid = data[training_data_len:]\n",
        "valid['Predictions'] = predictions\n",
        "#Visualize the data\n",
        "plt.figure(figsize=(14,6)) \n",
        "plt.title('Model')\n",
        "plt.xlabel('Data', fontsize=14)\n",
        "plt.ylabel('Preço de Fechamento R($)', fontsize=14)\n",
        "plt.plot(train['Close'])\n",
        "plt.plot(valid[['Close', 'Predictions']])\n",
        "plt.legend(['Train', 'Val', 'Predictions'], loc='lower right')\n",
        "plt.show()"
      ],
      "execution_count": 63,
      "outputs": [
        {
          "output_type": "stream",
          "text": [
            "/usr/local/lib/python3.6/dist-packages/ipykernel_launcher.py:4: SettingWithCopyWarning: \n",
            "A value is trying to be set on a copy of a slice from a DataFrame.\n",
            "Try using .loc[row_indexer,col_indexer] = value instead\n",
            "\n",
            "See the caveats in the documentation: https://pandas.pydata.org/pandas-docs/stable/user_guide/indexing.html#returning-a-view-versus-a-copy\n",
            "  after removing the cwd from sys.path.\n"
          ],
          "name": "stderr"
        },
        {
          "output_type": "display_data",
          "data": {
            "image/png": "[encoded data removed]",
            "text/plain": [
              "<Figure size 1008x432 with 1 Axes>"
            ]
          },
          "metadata": {
            "tags": []
          }
        }
      ]
    },
    {
      "cell_type": "code",
      "metadata": {
        "id": "QcSDjCFrAlnN",
        "colab_type": "code",
        "outputId": "237fd493-0c45-4c7c-d270-ba8961055caa",
        "colab": {
          "base_uri": "https://localhost:8080/",
          "height": 450
        }
      },
      "source": [
        "#Show the valid and predictied prices\n",
        "valid"
      ],
      "execution_count": 64,
      "outputs": [
        {
          "output_type": "execute_result",
          "data": {
            "text/html": [
              "<div>\n",
              "<style scoped>\n",
              "    .dataframe tbody tr th:only-of-type {\n",
              "        vertical-align: middle;\n",
              "    }\n",
              "\n",
              "    .dataframe tbody tr th {\n",
              "        vertical-align: top;\n",
              "    }\n",
              "\n",
              "    .dataframe thead th {\n",
              "        text-align: right;\n",
              "    }\n",
              "</style>\n",
              "<table border=\"1\" class=\"dataframe\">\n",
              "  <thead>\n",
              "    <tr style=\"text-align: right;\">\n",
              "      <th></th>\n",
              "      <th>Close</th>\n",
              "      <th>Predictions</th>\n",
              "    </tr>\n",
              "    <tr>\n",
              "      <th>Date</th>\n",
              "      <th></th>\n",
              "      <th></th>\n",
              "    </tr>\n",
              "  </thead>\n",
              "  <tbody>\n",
              "    <tr>\n",
              "      <th>2019-01-08</th>\n",
              "      <td>47.930000</td>\n",
              "      <td>49.330090</td>\n",
              "    </tr>\n",
              "    <tr>\n",
              "      <th>2019-01-09</th>\n",
              "      <td>47.799999</td>\n",
              "      <td>49.644268</td>\n",
              "    </tr>\n",
              "    <tr>\n",
              "      <th>2019-01-10</th>\n",
              "      <td>48.500000</td>\n",
              "      <td>49.735077</td>\n",
              "    </tr>\n",
              "    <tr>\n",
              "      <th>2019-01-11</th>\n",
              "      <td>48.700001</td>\n",
              "      <td>49.813347</td>\n",
              "    </tr>\n",
              "    <tr>\n",
              "      <th>2019-01-14</th>\n",
              "      <td>49.830002</td>\n",
              "      <td>49.893742</td>\n",
              "    </tr>\n",
              "    <tr>\n",
              "      <th>...</th>\n",
              "      <td>...</td>\n",
              "      <td>...</td>\n",
              "    </tr>\n",
              "    <tr>\n",
              "      <th>2020-05-28</th>\n",
              "      <td>30.790001</td>\n",
              "      <td>30.726093</td>\n",
              "    </tr>\n",
              "    <tr>\n",
              "      <th>2020-05-29</th>\n",
              "      <td>30.840000</td>\n",
              "      <td>31.237505</td>\n",
              "    </tr>\n",
              "    <tr>\n",
              "      <th>2020-06-01</th>\n",
              "      <td>31.799999</td>\n",
              "      <td>31.597023</td>\n",
              "    </tr>\n",
              "    <tr>\n",
              "      <th>2020-06-02</th>\n",
              "      <td>32.820000</td>\n",
              "      <td>31.968370</td>\n",
              "    </tr>\n",
              "    <tr>\n",
              "      <th>2020-06-03</th>\n",
              "      <td>34.750000</td>\n",
              "      <td>32.440289</td>\n",
              "    </tr>\n",
              "  </tbody>\n",
              "</table>\n",
              "<p>347 rows × 2 columns</p>\n",
              "</div>"
            ],
            "text/plain": [
              "                Close  Predictions\n",
              "Date                              \n",
              "2019-01-08  47.930000    49.330090\n",
              "2019-01-09  47.799999    49.644268\n",
              "2019-01-10  48.500000    49.735077\n",
              "2019-01-11  48.700001    49.813347\n",
              "2019-01-14  49.830002    49.893742\n",
              "...               ...          ...\n",
              "2020-05-28  30.790001    30.726093\n",
              "2020-05-29  30.840000    31.237505\n",
              "2020-06-01  31.799999    31.597023\n",
              "2020-06-02  32.820000    31.968370\n",
              "2020-06-03  34.750000    32.440289\n",
              "\n",
              "[347 rows x 2 columns]"
            ]
          },
          "metadata": {
            "tags": []
          },
          "execution_count": 64
        }
      ]
    },
    {
      "cell_type": "code",
      "metadata": {
        "id": "_76bYrv4A7vX",
        "colab_type": "code",
        "outputId": "b432b005-e0db-46ed-dc59-aeb513ec7a8a",
        "colab": {
          "base_uri": "https://localhost:8080/",
          "height": 34
        }
      },
      "source": [
        "#Get the quote\n",
        "bb_quote = web.DataReader('BBAS3.SA', data_source='yahoo', start='2013-06-04', end='2020-06-03')\n",
        "#Create a new dataframe\n",
        "new_df = bb_quote.filter(['Close'])\n",
        "#Get the last 70day closing price values and convert the dataframe to an array\n",
        "last_70_days = new_df[-70:].values\n",
        "#Scale the data to be values between 0 and 1\n",
        "last_70_days_scaled = scaler.transform(last_70_days)\n",
        "#Create an empty list\n",
        "X_test = []\n",
        "#Append the past 70 days\n",
        "X_test.append(last_70_days_scaled)\n",
        "#Convert the X_test data set to a numpy array\n",
        "X_test = np.array(X_test)\n",
        "#Reshape the date\n",
        "X_test = np.reshape(X_test, (X_test.shape[0], X_test.shape[1], 1))\n",
        "#Get the predicted scaled price\n",
        "pred_price = model.predict(X_test)\n",
        "#undo the scaling\n",
        "pred_price = scaler.inverse_transform(pred_price)\n",
        "print(pred_price)\n",
        "\n"
      ],
      "execution_count": 65,
      "outputs": [
        {
          "output_type": "stream",
          "text": [
            "[[33.184776]]\n"
          ],
          "name": "stdout"
        }
      ]
    },
    {
      "cell_type": "code",
      "metadata": {
        "id": "ao8sp-GYEF8_",
        "colab_type": "code",
        "outputId": "987a485b-9fa4-417c-a2d6-29281e430d5e",
        "colab": {
          "base_uri": "https://localhost:8080/",
          "height": 85
        }
      },
      "source": [
        "#Get the quote\n",
        "bb_quote2 = web.DataReader('BBAS3.SA', data_source='yahoo', start='2020-06-02', end='2020-06-03')\n",
        "print(bb_quote2['Close'])"
      ],
      "execution_count": 68,
      "outputs": [
        {
          "output_type": "stream",
          "text": [
            "Date\n",
            "2020-06-02    32.82\n",
            "2020-06-03    34.75\n",
            "Name: Close, dtype: float64\n"
          ],
          "name": "stdout"
        }
      ]
    }
  ]
}